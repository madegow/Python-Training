{
 "cells": [
  {
   "cell_type": "code",
   "execution_count": 10,
   "id": "4c883661-e942-44cf-88bc-bd755b63ec1e",
   "metadata": {},
   "outputs": [
    {
     "name": "stdout",
     "output_type": "stream",
     "text": [
      "i have 30 friends\n"
     ]
    }
   ],
   "source": [
    "n=30\n",
    "txt=\"i have {} friends\"\n",
    "print(txt.format(n))"
   ]
  },
  {
   "cell_type": "code",
   "execution_count": 2,
   "id": "cadc2a21-1a16-45cd-a853-c0d3d1bbc91b",
   "metadata": {},
   "outputs": [
    {
     "name": "stdout",
     "output_type": "stream",
     "text": [
      "i have 30 friends\n"
     ]
    }
   ],
   "source": [
    "n=30\n",
    "print(\"i have {} friends\".format(n))"
   ]
  },
  {
   "cell_type": "code",
   "execution_count": 3,
   "id": "eb9e40c3-3f08-4e5d-b93a-fd0a83b9096c",
   "metadata": {},
   "outputs": [
    {
     "name": "stdout",
     "output_type": "stream",
     "text": [
      "i have 30 friends\n"
     ]
    }
   ],
   "source": [
    "n=30\n",
    "print(\"i have %d friends\"%(n))"
   ]
  },
  {
   "cell_type": "code",
   "execution_count": 4,
   "id": "34551d30-0cfd-411d-b670-fb7f729f36d2",
   "metadata": {},
   "outputs": [
    {
     "name": "stdout",
     "output_type": "stream",
     "text": [
      "i have 30 friends\n"
     ]
    }
   ],
   "source": [
    "n=30\n",
    "print(\"i have {} friends\".format(n))"
   ]
  },
  {
   "cell_type": "code",
   "execution_count": 9,
   "id": "7b07b31e-4d59-44c5-b512-4a19678706f6",
   "metadata": {},
   "outputs": [
    {
     "name": "stdout",
     "output_type": "stream",
     "text": [
      "i have 30 friends\n"
     ]
    }
   ],
   "source": [
    "n=30\n",
    "print(f\"i have {n} friends\")"
   ]
  },
  {
   "cell_type": "code",
   "execution_count": null,
   "id": "87156447-fe11-4e3f-8ef0-203ccdbf7d85",
   "metadata": {},
   "outputs": [],
   "source": []
  }
 ],
 "metadata": {
  "kernelspec": {
   "display_name": "Python 3 (ipykernel)",
   "language": "python",
   "name": "python3"
  },
  "language_info": {
   "codemirror_mode": {
    "name": "ipython",
    "version": 3
   },
   "file_extension": ".py",
   "mimetype": "text/x-python",
   "name": "python",
   "nbconvert_exporter": "python",
   "pygments_lexer": "ipython3",
   "version": "3.11.7"
  }
 },
 "nbformat": 4,
 "nbformat_minor": 5
}
