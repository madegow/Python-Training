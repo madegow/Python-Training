{
 "cells": [
  {
   "cell_type": "code",
   "execution_count": 1,
   "id": "c1306c79",
   "metadata": {},
   "outputs": [
    {
     "name": "stdout",
     "output_type": "stream",
     "text": [
      "i have 30 friends!\n"
     ]
    }
   ],
   "source": [
    "# different ways to print in python\n",
    "n=30\n",
    "txt = \"i have {} friends!\"\n",
    "print(txt.format(n))"
   ]
  },
  {
   "cell_type": "code",
   "execution_count": 2,
   "id": "98ec81a5",
   "metadata": {},
   "outputs": [
    {
     "name": "stdout",
     "output_type": "stream",
     "text": [
      "i have 30 friends\n"
     ]
    }
   ],
   "source": [
    "# Example 1: Printing a formatted string\n",
    "#name = \"Alice\"\n",
    "n = 30\n",
    "print(\"i have %d friends\" % (n))\n",
    "# Output: Alice is 25 years old."
   ]
  },
  {
   "cell_type": "code",
   "execution_count": 3,
   "id": "f1f5902d",
   "metadata": {},
   "outputs": [
    {
     "name": "stdout",
     "output_type": "stream",
     "text": [
      "i have 30 friends\n"
     ]
    }
   ],
   "source": [
    "n=30\n",
    "print(\"i have {} friends\".format(n))"
   ]
  },
  {
   "cell_type": "code",
   "execution_count": 4,
   "id": "6f59f363",
   "metadata": {},
   "outputs": [
    {
     "name": "stdout",
     "output_type": "stream",
     "text": [
      "i have 30 friends\n"
     ]
    }
   ],
   "source": [
    "n=30\n",
    "print(f\"i have {n} friends\")\n"
   ]
  },
  {
   "cell_type": "code",
   "execution_count": 5,
   "id": "22f2177b",
   "metadata": {},
   "outputs": [
    {
     "name": "stdout",
     "output_type": "stream",
     "text": [
      "Carol is 35 years old.\n"
     ]
    }
   ],
   "source": [
    "name = \"Carol\"\n",
    "age = 35\n",
    "print(f\"{name} is {age} years old.\")\n"
   ]
  },
  {
   "cell_type": "code",
   "execution_count": null,
   "id": "92d18cfc",
   "metadata": {},
   "outputs": [],
   "source": []
  }
 ],
 "metadata": {
  "kernelspec": {
   "display_name": "Python 3 (ipykernel)",
   "language": "python",
   "name": "python3"
  },
  "language_info": {
   "codemirror_mode": {
    "name": "ipython",
    "version": 3
   },
   "file_extension": ".py",
   "mimetype": "text/x-python",
   "name": "python",
   "nbconvert_exporter": "python",
   "pygments_lexer": "ipython3",
   "version": "3.10.9"
  }
 },
 "nbformat": 4,
 "nbformat_minor": 5
}
